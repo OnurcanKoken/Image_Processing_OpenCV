{
  "nbformat": 4,
  "nbformat_minor": 0,
  "metadata": {
    "colab": {
      "name": "Capture Photo Video Webcam on Colab.ipynb",
      "provenance": [],
      "collapsed_sections": [
        "MvSjCHo0L4D7"
      ],
      "authorship_tag": "ABX9TyNcfkk9Acr/4U17ddxdScbm",
      "include_colab_link": true
    },
    "kernelspec": {
      "name": "python3",
      "display_name": "Python 3"
    },
    "language_info": {
      "name": "python"
    }
  },
  "cells": [
    {
      "cell_type": "markdown",
      "metadata": {
        "id": "view-in-github",
        "colab_type": "text"
      },
      "source": [
        "<a href=\"https://colab.research.google.com/github/OnurcanKoken/Image_Processing_OpenCV/blob/main/Capture_Photo_Video_Webcam_on_Colab.ipynb\" target=\"_parent\"><img src=\"https://colab.research.google.com/assets/colab-badge.svg\" alt=\"Open In Colab\"/></a>"
      ]
    },
    {
      "cell_type": "markdown",
      "metadata": {
        "id": "vrXqqTdKiLuz"
      },
      "source": [
        "# **Capture Show Read Write**\n",
        "\n",
        "# **Image Frame Photo Video Webcam**\n",
        "\n",
        "> *`on Colab`*\n",
        "\n",
        "\n",
        "---\n",
        "\n"
      ]
    },
    {
      "cell_type": "markdown",
      "metadata": {
        "id": "4o1syfsziuYa"
      },
      "source": [
        "author: Onurcan Köken\n",
        "\n",
        "date: 4th of May, 2021"
      ]
    },
    {
      "cell_type": "markdown",
      "metadata": {
        "id": "RLXmEM9hhRAM"
      },
      "source": [
        "# **Contents**\n",
        "\n",
        "1. Plot an Image by OpenCV on Colab?\n",
        "2. How to use Webcam to Take a Picture or Record a Video Stream?\n",
        "3. What about Directly Recording a Video Stream while you are Reading the Video Stream?\n",
        "4. To be able to Save Frames of a Video Stream\n",
        "\n"
      ]
    },
    {
      "cell_type": "markdown",
      "metadata": {
        "id": "MvSjCHo0L4D7"
      },
      "source": [
        "# 1. Plot an Image by Opencv on Colab?"
      ]
    },
    {
      "cell_type": "markdown",
      "metadata": {
        "id": "5GxH01T2cUcI"
      },
      "source": [
        "not possible to use cv2.imshow() in colab, therefor you need to use cv2_imshow() but there are other ways too, e.g. you can use PIL library "
      ]
    },
    {
      "cell_type": "code",
      "metadata": {
        "id": "SGquPC-4L-y1"
      },
      "source": [
        "from google.colab.patches import cv2_imshow\n",
        "cv2_imshow(img)"
      ],
      "execution_count": null,
      "outputs": []
    },
    {
      "cell_type": "markdown",
      "metadata": {
        "id": "c6MmSgFnEed2"
      },
      "source": [
        "# 2. How to use Webcam to Take a Picture or Record a Video Stream?"
      ]
    },
    {
      "cell_type": "markdown",
      "metadata": {
        "id": "kvJ8Iqv7Exvs"
      },
      "source": [
        "The following code is gethered from the toolbar at the left side of Colab.\n",
        "* Click on \"Code Snippets\" icon and Select \"Camera Capture\" section\n",
        "* Then, click on \"INSERT\"\n",
        "\n",
        "\n"
      ]
    },
    {
      "cell_type": "code",
      "metadata": {
        "id": "h_E2T4HYEqka"
      },
      "source": [
        "from IPython.display import display, Javascript\n",
        "from google.colab.output import eval_js\n",
        "from base64 import b64decode\n",
        "\n",
        "def take_photo(filename='photo.jpg', quality=0.8):\n",
        "  js = Javascript('''\n",
        "    async function takePhoto(quality) {\n",
        "      const div = document.createElement('div');\n",
        "      const capture = document.createElement('button');\n",
        "      capture.textContent = 'Capture';\n",
        "      div.appendChild(capture);\n",
        "\n",
        "      const video = document.createElement('video');\n",
        "      video.style.display = 'block';\n",
        "      const stream = await navigator.mediaDevices.getUserMedia({video: true});\n",
        "\n",
        "      document.body.appendChild(div);\n",
        "      div.appendChild(video);\n",
        "      video.srcObject = stream;\n",
        "      await video.play();\n",
        "\n",
        "      // Resize the output to fit the video element.\n",
        "      google.colab.output.setIframeHeight(document.documentElement.scrollHeight, true);\n",
        "\n",
        "      // Wait for Capture to be clicked.\n",
        "      await new Promise((resolve) => capture.onclick = resolve);\n",
        "\n",
        "      const canvas = document.createElement('canvas');\n",
        "      canvas.width = video.videoWidth;\n",
        "      canvas.height = video.videoHeight;\n",
        "      canvas.getContext('2d').drawImage(video, 0, 0);\n",
        "      stream.getVideoTracks()[0].stop();\n",
        "      div.remove();\n",
        "      return canvas.toDataURL('image/jpeg', quality);\n",
        "    }\n",
        "    ''')\n",
        "  display(js)\n",
        "  data = eval_js('takePhoto({})'.format(quality))\n",
        "  binary = b64decode(data.split(',')[1])\n",
        "  with open(filename, 'wb') as f:\n",
        "    f.write(binary)\n",
        "  return filename"
      ],
      "execution_count": null,
      "outputs": []
    },
    {
      "cell_type": "markdown",
      "metadata": {
        "id": "kNkClhSvF3Rc"
      },
      "source": [
        "You need to ALLOW colab to access your webcam\n",
        "\n",
        "It is possible to save the taken photo"
      ]
    },
    {
      "cell_type": "code",
      "metadata": {
        "id": "9Ue-MtE7FB-k"
      },
      "source": [
        "from IPython.display import Image\n",
        "try:\n",
        "  filename = take_photo()\n",
        "  print('Saved to {}'.format(filename))\n",
        "  \n",
        "  # Show the image which was just taken.\n",
        "  display(Image(filename))\n",
        "except Exception as err:\n",
        "  # Errors will be thrown if the user does not have a webcam or if they do not\n",
        "  # grant the page permission to access it.\n",
        "  print(str(err))"
      ],
      "execution_count": null,
      "outputs": []
    },
    {
      "cell_type": "markdown",
      "metadata": {
        "id": "vLY964gbGOu-"
      },
      "source": [
        "It is also possible to record and show video by your webcam"
      ]
    },
    {
      "cell_type": "code",
      "metadata": {
        "id": "Y33JT1mqFbOC"
      },
      "source": [
        "# Adapted from: https://stackoverflow.com/a/62804023/4879610\n",
        "from IPython.display import display, Javascript\n",
        "from google.colab.output import eval_js\n",
        "from base64 import b64decode\n",
        "\n",
        "def record_video(filename):\n",
        "  js = Javascript(\"\"\"\n",
        "    async function recordVideo() {\n",
        "      // mashes together the advanced_outputs.ipynb function provided by Colab, \n",
        "      // a bunch of stuff from Stack overflow, and some sample code from:\n",
        "      // https://developer.mozilla.org/en-US/docs/Web/API/MediaStream_Recording_API\n",
        "\n",
        "      // Optional frames per second argument.\n",
        "      const options = { mimeType: \"video/webm; codecs=vp9\" };\n",
        "      const div = document.createElement('div');\n",
        "      const capture = document.createElement('button');\n",
        "      const stopCapture = document.createElement(\"button\");\n",
        "      capture.textContent = \"Start Recording\";\n",
        "      capture.style.background = \"green\";\n",
        "      capture.style.color = \"white\";\n",
        "\n",
        "      stopCapture.textContent = \"Stop Recording\";\n",
        "      stopCapture.style.background = \"red\";\n",
        "      stopCapture.style.color = \"white\";\n",
        "      div.appendChild(capture);\n",
        "\n",
        "      const video = document.createElement('video');\n",
        "      const recordingVid = document.createElement(\"video\");\n",
        "      video.style.display = 'block';\n",
        "\n",
        "      const stream = await navigator.mediaDevices.getUserMedia({audio:true, video: true});\n",
        "      // create a media recorder instance, which is an object\n",
        "      // that will let you record what you stream.\n",
        "      let recorder = new MediaRecorder(stream, options);\n",
        "      document.body.appendChild(div);\n",
        "      div.appendChild(video);\n",
        "      // Video is a media element.  This line here sets the object which serves\n",
        "      // as the source of the media associated with the HTMLMediaElement\n",
        "      // Here, we'll set it equal to the stream.\n",
        "      video.srcObject = stream;\n",
        "\n",
        "      // from https://stackoverflow.com/questions/62529304/is-there-any-way-to-capture-live-video-using-webcam-in-google-colab#comment114644726_62804023\n",
        "      video.muted = true;\n",
        "\n",
        "      // We're inside an async function, so this await will fire off the playing\n",
        "      // of a video. It returns a Promise which is resolved when playback has \n",
        "      // been successfully started. Since this is async, the function will be \n",
        "      // paused until this has started playing. \n",
        "      await video.play();\n",
        "\n",
        "      // Resize the output to fit the video element.\n",
        "      google.colab.output.setIframeHeight(document.documentElement.scrollHeight, true);\n",
        "      // and now, just wait for the capture button to get clicked in order to\n",
        "      // start recording\n",
        "      await new Promise((resolve) => {\n",
        "        capture.onclick = resolve;\n",
        "      });\n",
        "      recorder.start();\n",
        "      capture.replaceWith(stopCapture);\n",
        "      // use a promise to tell it to stop recording\n",
        "      await new Promise((resolve) => stopCapture.onclick = resolve);\n",
        "      recorder.stop();\n",
        "\n",
        "      let recData = await new Promise((resolve) => recorder.ondataavailable = resolve);\n",
        "      let arrBuff = await recData.data.arrayBuffer();\n",
        "      \n",
        "      // stop the stream and remove the video element\n",
        "      stream.getVideoTracks()[0].stop();\n",
        "      div.remove();\n",
        "\n",
        "      let binaryString = \"\";\n",
        "      let bytes = new Uint8Array(arrBuff);\n",
        "      bytes.forEach((byte) => {\n",
        "        binaryString += String.fromCharCode(byte);\n",
        "      })\n",
        "      return btoa(binaryString);\n",
        "\n",
        "    }\n",
        "    \"\"\")\n",
        "  try:\n",
        "    display(js)\n",
        "    data = eval_js('recordVideo({})')\n",
        "    binary = b64decode(data)\n",
        "    with open(filename, \"wb\") as video_file:\n",
        "      video_file.write(binary)\n",
        "    print(\n",
        "        f\"Finished recording video. Saved binary under filename in current working directory: {filename}\"\n",
        "    )\n",
        "  except Exception as err:\n",
        "      # In case any exceptions arise\n",
        "      print(str(err))"
      ],
      "execution_count": null,
      "outputs": []
    },
    {
      "cell_type": "markdown",
      "metadata": {
        "id": "HpA3DE1B7f8E"
      },
      "source": [
        " remember, you need to ALLOW here, to be able to use your webcam!"
      ]
    },
    {
      "cell_type": "code",
      "metadata": {
        "id": "H1r_AkQhGWM9"
      },
      "source": [
        "from IPython.display import HTML\n",
        "from base64 import b64encode\n",
        "\n",
        "def show_video(video_path, video_width = 600):\n",
        "  # show saved video in colab.\n",
        "  video_file = open(video_path, \"r+b\").read()\n",
        "\n",
        "  video_url = f\"data:video/mp4;base64,{b64encode(video_file).decode()}\"\n",
        "  return HTML(f\"\"\"<video width={video_width} controls><source src=\"{video_url}\"></video>\"\"\")"
      ],
      "execution_count": null,
      "outputs": []
    },
    {
      "cell_type": "code",
      "metadata": {
        "colab": {
          "base_uri": "https://localhost:8080/",
          "height": 33
        },
        "id": "fe74QpFMGtKb",
        "outputId": "276a4ea5-b43d-49b4-b1d8-8407c74f565b"
      },
      "source": [
        "# video record\n",
        "video_path = \"test.mp4\"\n",
        "record_video(video_path)"
      ],
      "execution_count": null,
      "outputs": [
        {
          "output_type": "display_data",
          "data": {
            "application/javascript": [
              "\n",
              "    async function recordVideo() {\n",
              "      // mashes together the advanced_outputs.ipynb function provided by Colab, \n",
              "      // a bunch of stuff from Stack overflow, and some sample code from:\n",
              "      // https://developer.mozilla.org/en-US/docs/Web/API/MediaStream_Recording_API\n",
              "\n",
              "      // Optional frames per second argument.\n",
              "      const options = { mimeType: \"video/webm; codecs=vp9\" };\n",
              "      const div = document.createElement('div');\n",
              "      const capture = document.createElement('button');\n",
              "      const stopCapture = document.createElement(\"button\");\n",
              "      capture.textContent = \"Start Recording\";\n",
              "      capture.style.background = \"green\";\n",
              "      capture.style.color = \"white\";\n",
              "\n",
              "      stopCapture.textContent = \"Stop Recording\";\n",
              "      stopCapture.style.background = \"red\";\n",
              "      stopCapture.style.color = \"white\";\n",
              "      div.appendChild(capture);\n",
              "\n",
              "      const video = document.createElement('video');\n",
              "      const recordingVid = document.createElement(\"video\");\n",
              "      video.style.display = 'block';\n",
              "\n",
              "      const stream = await navigator.mediaDevices.getUserMedia({audio:true, video: true});\n",
              "      // create a media recorder instance, which is an object\n",
              "      // that will let you record what you stream.\n",
              "      let recorder = new MediaRecorder(stream, options);\n",
              "      document.body.appendChild(div);\n",
              "      div.appendChild(video);\n",
              "      // Video is a media element.  This line here sets the object which serves\n",
              "      // as the source of the media associated with the HTMLMediaElement\n",
              "      // Here, we'll set it equal to the stream.\n",
              "      video.srcObject = stream;\n",
              "\n",
              "      // from https://stackoverflow.com/questions/62529304/is-there-any-way-to-capture-live-video-using-webcam-in-google-colab#comment114644726_62804023\n",
              "      video.muted = true;\n",
              "\n",
              "      // We're inside an async function, so this await will fire off the playing\n",
              "      // of a video. It returns a Promise which is resolved when playback has \n",
              "      // been successfully started. Since this is async, the function will be \n",
              "      // paused until this has started playing. \n",
              "      await video.play();\n",
              "\n",
              "      // Resize the output to fit the video element.\n",
              "      google.colab.output.setIframeHeight(document.documentElement.scrollHeight, true);\n",
              "      // and now, just wait for the capture button to get clicked in order to\n",
              "      // start recording\n",
              "      await new Promise((resolve) => {\n",
              "        capture.onclick = resolve;\n",
              "      });\n",
              "      recorder.start();\n",
              "      capture.replaceWith(stopCapture);\n",
              "      // use a promise to tell it to stop recording\n",
              "      await new Promise((resolve) => stopCapture.onclick = resolve);\n",
              "      recorder.stop();\n",
              "\n",
              "      let recData = await new Promise((resolve) => recorder.ondataavailable = resolve);\n",
              "      let arrBuff = await recData.data.arrayBuffer();\n",
              "      \n",
              "      // stop the stream and remove the video element\n",
              "      stream.getVideoTracks()[0].stop();\n",
              "      div.remove();\n",
              "\n",
              "      let binaryString = \"\";\n",
              "      let bytes = new Uint8Array(arrBuff);\n",
              "      bytes.forEach((byte) => {\n",
              "        binaryString += String.fromCharCode(byte);\n",
              "      })\n",
              "      return btoa(binaryString);\n",
              "\n",
              "    }\n",
              "    "
            ],
            "text/plain": [
              "<IPython.core.display.Javascript object>"
            ]
          },
          "metadata": {
            "tags": []
          }
        },
        {
          "output_type": "stream",
          "text": [
            "Finished recording video. Saved binary under filename in current working directory: test.mp4\n"
          ],
          "name": "stdout"
        }
      ]
    },
    {
      "cell_type": "code",
      "metadata": {
        "id": "58aXEyVwHR7E"
      },
      "source": [
        "# play the video, sound is included\n",
        "show_video(video_path)"
      ],
      "execution_count": null,
      "outputs": []
    },
    {
      "cell_type": "markdown",
      "metadata": {
        "id": "OzAZRie97pmx"
      },
      "source": [
        "Another way of playing the video, show_video() function enough, no need to this one"
      ]
    },
    {
      "cell_type": "code",
      "metadata": {
        "id": "7hJDPNRxIH2K"
      },
      "source": [
        "!pip install -U kora\n",
        "from kora.drive import upload_public\n",
        "url = upload_public(video_path)\n",
        "# then display it\n",
        "from IPython.display import HTML\n",
        "HTML(f\"\"\"<video src={url} width=500 controls/>\"\"\")"
      ],
      "execution_count": null,
      "outputs": []
    },
    {
      "cell_type": "markdown",
      "metadata": {
        "id": "D6x5lFF6Jeuk"
      },
      "source": [
        "# 3. What about Directly Recording a Video Strem while you are Reading the Video Strem?"
      ]
    },
    {
      "cell_type": "markdown",
      "metadata": {
        "id": "T0nqk3XsJs2z"
      },
      "source": [
        "I took me a *REALLY LONG TIME* to figure out how it works, but fixed the problems and works well now (in 4th of May, 2021)"
      ]
    },
    {
      "cell_type": "markdown",
      "metadata": {
        "id": "_ktQACfuNUR9"
      },
      "source": [
        "might want to check this one: https://www.geeksforgeeks.org/saving-a-video-using-opencv/\n",
        "\n",
        "or this one works fine as well: https://stackoverflow.com/questions/62072021/opencv-video-capture-using-keyboard-to-start-stop\n",
        "\n",
        "\n",
        "or this one says it works for colab: https://stackoverflow.com/questions/58924926/cv2-imshow-doesnt-render-video-file-in-google-colab"
      ]
    },
    {
      "cell_type": "code",
      "metadata": {
        "id": "0_3VovFJJ_JA"
      },
      "source": [
        "import cv2 as cv\n",
        "import numpy as np"
      ],
      "execution_count": null,
      "outputs": []
    },
    {
      "cell_type": "code",
      "metadata": {
        "id": "KJ6gjtDOTKNw"
      },
      "source": [
        "# at first, read the video file\n",
        "#video_path = \"test.mp4\"\n",
        "video_path = \"test.mp4\"\n",
        "# capture temporary to get width, height, fps\n",
        "vcap = cv.VideoCapture(video_path)\n",
        "\n",
        "if vcap.isOpened(): # get resulotion and fps\n",
        "\n",
        "    width  = vcap.get(3)  # float width\n",
        "    height = vcap.get(4)  # float height\n",
        "    fps = vcap.get(cv.CAP_PROP_FPS) # might work or not, if it does not, use time\n",
        "    \n",
        "vcap.release()\n",
        "\n",
        "# reference: https://stackoverflow.com/questions/39953263/get-video-dimension-in-python-opencv/39953739"
      ],
      "execution_count": null,
      "outputs": []
    },
    {
      "cell_type": "code",
      "metadata": {
        "id": "1ShhfHHWTZ-c"
      },
      "source": [
        "capture = cv.VideoCapture(video_path)\n",
        "ret = True\n",
        "# VERY IMPORTANT! IF RESULOTION IS DIFFERENT, YOU CAN NOT RECORD!\n",
        "res = (int(width), int(height)) # resulotion\n",
        "fourcc = cv.VideoWriter_fourcc(*'MP4V') # \"*'XVID'\" can be used for .avi\n",
        "# fps is changeable, you can increase or decrease or use original one\n",
        "output = cv.VideoWriter('video.mp4', fourcc, 30, res)"
      ],
      "execution_count": null,
      "outputs": []
    },
    {
      "cell_type": "code",
      "metadata": {
        "id": "Xq_bvsWPTaJ3"
      },
      "source": [
        "while ret:\n",
        "  # read each frame\n",
        "  ret, frame = capture.read()\n",
        "  # write each frame\n",
        "  output.write(frame)\n",
        "output.release()\n",
        "capture.release()\n",
        "cv.destroyAllWindows()"
      ],
      "execution_count": null,
      "outputs": []
    },
    {
      "cell_type": "markdown",
      "metadata": {
        "id": "Nr0upAEDKP1G"
      },
      "source": [
        "# 4. To be able to Save Frames of a Video Strem"
      ]
    },
    {
      "cell_type": "markdown",
      "metadata": {
        "id": "Nic6Sq8wVgCW"
      },
      "source": [
        "this is a way to save images, you can change the number of images that will be saved, upto you"
      ]
    },
    {
      "cell_type": "code",
      "metadata": {
        "id": "GB-GSp_ELNla"
      },
      "source": [
        "import matplotlib.pyplot as plt\n",
        "import math\n",
        "import cv2"
      ],
      "execution_count": null,
      "outputs": []
    },
    {
      "cell_type": "code",
      "metadata": {
        "id": "uU01inLLKUXE"
      },
      "source": [
        "count = 0\n",
        "success = True\n",
        "\n",
        "vidcap = cv2.VideoCapture(videofile)\n",
        "\n",
        "while success:\n",
        "    if (count%one_frame_each == 0):                                   # checks frame number and keeps one_frame_each          \n",
        "        success,image = vidcap.read()                                 # reads next frame           \n",
        "        # image = rgb2gray(image)                                     # grayscale image\n",
        "        image = cv2.cvtColor(image, cv2.COLOR_RGB2BGR)                # convert RGB to BGR\n",
        "        plt.imsave(\"%s/%s%d.png\" % (OUTPUT_FRAMES_PATH, frame_name, count), image, cmap= plt.cm.gray) # saves images to frame folder\n",
        "        print ('*', end=\"\")\n",
        "    else:\n",
        "        success,image = vidcap.read()                                 # reads next frame\n",
        "    count += 1                                                        # loops counter\n",
        "# reference: https://colab.research.google.com/github/Giffy/CarCrashDetector/blob/master/1_Building_a_Dataset.ipynb#scrollTo=xwVJaYVnW9bd"
      ],
      "execution_count": null,
      "outputs": []
    },
    {
      "cell_type": "code",
      "metadata": {
        "id": "U7bbS-lFMTWI"
      },
      "source": [
        "run=False\n",
        "frame=0\n",
        "path= \"test.mp4\" #some video path\n",
        "\n",
        "def foo(event, x, y, flags, param):\n",
        "    global run\n",
        "    global frame\n",
        "    #check which mouse button was pressed\n",
        "    #e.g. play video on left mouse click\n",
        "    print(\"aaa12\")\n",
        "    if event == cv2.EVENT_LBUTTONDOWN:\n",
        "        run= not run\n",
        "        print(\"aaa13\")\n",
        "        while run:\n",
        "\n",
        "            frame+=1\n",
        "            frame=cap.read()[1]\n",
        "            cv2.imshow(window_name, frame)\n",
        "\n",
        "\n",
        "    elif event == cv2.EVENT_RBUTTONDOWN:\n",
        "        print(\"aaa14\")\n",
        "        pass\n",
        "        #do some other stuff on right click\n",
        "\n",
        "print(\"aaa1\")\n",
        "window_name='videoPlayer'\n",
        "print(\"aaa2\")\n",
        "cv2.namedWindow(window_name)\n",
        "print(\"aaa3\")\n",
        "cv2.setMouseCallback(window_name, foo)\n",
        "print(\"aaa4\")\n",
        "\n",
        "cap=cv2.VideoCapture(path)"
      ],
      "execution_count": null,
      "outputs": []
    },
    {
      "cell_type": "markdown",
      "metadata": {
        "id": "1Zh5P-Blh79z"
      },
      "source": [
        "\n",
        "\n",
        "# > `The End`\n",
        "\n"
      ]
    }
  ]
}